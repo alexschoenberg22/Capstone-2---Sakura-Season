{
 "cells": [
  {
   "cell_type": "code",
   "execution_count": 6,
   "id": "a845c360",
   "metadata": {},
   "outputs": [],
   "source": [
    "#import relevant packages\n",
    "import numpy as np\n",
    "import pandas as pd\n",
    "import os\n",
    "\n",
    "#import data as .csv file and create a dataframe using pandas\n",
    "sakura_data = pd.read_csv('hirosaki_temp_cherry_bloom.csv')\n",
    "sakura_df = pd.DataFrame(sakura_data)"
   ]
  },
  {
   "cell_type": "code",
   "execution_count": 7,
   "id": "1dc2ac87",
   "metadata": {},
   "outputs": [
    {
     "name": "stdout",
     "output_type": "stream",
     "text": [
      "<class 'pandas.core.frame.DataFrame'>\n",
      "RangeIndex: 9131 entries, 0 to 9130\n",
      "Data columns (total 3 columns):\n",
      " #   Column         Non-Null Count  Dtype  \n",
      "---  ------         --------------  -----  \n",
      " 0   date           9131 non-null   object \n",
      " 1   temperature    9131 non-null   float64\n",
      " 2   flower_status  75 non-null     object \n",
      "dtypes: float64(1), object(2)\n",
      "memory usage: 214.1+ KB\n"
     ]
    }
   ],
   "source": [
    "#start checking out the data and getting summary info \n",
    "sakura_df.info()"
   ]
  },
  {
   "cell_type": "code",
   "execution_count": 8,
   "id": "57763688",
   "metadata": {},
   "outputs": [
    {
     "data": {
      "text/html": [
       "<div>\n",
       "<style scoped>\n",
       "    .dataframe tbody tr th:only-of-type {\n",
       "        vertical-align: middle;\n",
       "    }\n",
       "\n",
       "    .dataframe tbody tr th {\n",
       "        vertical-align: top;\n",
       "    }\n",
       "\n",
       "    .dataframe thead th {\n",
       "        text-align: right;\n",
       "    }\n",
       "</style>\n",
       "<table border=\"1\" class=\"dataframe\">\n",
       "  <thead>\n",
       "    <tr style=\"text-align: right;\">\n",
       "      <th></th>\n",
       "      <th>date</th>\n",
       "      <th>temperature</th>\n",
       "      <th>flower_status</th>\n",
       "    </tr>\n",
       "  </thead>\n",
       "  <tbody>\n",
       "    <tr>\n",
       "      <th>0</th>\n",
       "      <td>1997/1/1</td>\n",
       "      <td>2.9</td>\n",
       "      <td>NaN</td>\n",
       "    </tr>\n",
       "    <tr>\n",
       "      <th>1</th>\n",
       "      <td>1997/1/2</td>\n",
       "      <td>2.2</td>\n",
       "      <td>NaN</td>\n",
       "    </tr>\n",
       "    <tr>\n",
       "      <th>2</th>\n",
       "      <td>1997/1/3</td>\n",
       "      <td>-1.6</td>\n",
       "      <td>NaN</td>\n",
       "    </tr>\n",
       "    <tr>\n",
       "      <th>3</th>\n",
       "      <td>1997/1/4</td>\n",
       "      <td>0.2</td>\n",
       "      <td>NaN</td>\n",
       "    </tr>\n",
       "    <tr>\n",
       "      <th>4</th>\n",
       "      <td>1997/1/5</td>\n",
       "      <td>-0.4</td>\n",
       "      <td>NaN</td>\n",
       "    </tr>\n",
       "  </tbody>\n",
       "</table>\n",
       "</div>"
      ],
      "text/plain": [
       "       date  temperature flower_status\n",
       "0  1997/1/1          2.9           NaN\n",
       "1  1997/1/2          2.2           NaN\n",
       "2  1997/1/3         -1.6           NaN\n",
       "3  1997/1/4          0.2           NaN\n",
       "4  1997/1/5         -0.4           NaN"
      ]
     },
     "execution_count": 8,
     "metadata": {},
     "output_type": "execute_result"
    }
   ],
   "source": [
    "sakura_df.head()\n",
    "\n",
    "#there are only 3 columns and it seems like \"flower_status\" is missing a lot of values (because the flowers only bloom for a short period of time per year)"
   ]
  },
  {
   "cell_type": "code",
   "execution_count": 11,
   "id": "adb5035b",
   "metadata": {},
   "outputs": [
    {
     "name": "stdout",
     "output_type": "stream",
     "text": [
      "<class 'pandas.core.frame.DataFrame'>\n",
      "RangeIndex: 9131 entries, 0 to 9130\n",
      "Data columns (total 6 columns):\n",
      " #   Column         Non-Null Count  Dtype  \n",
      "---  ------         --------------  -----  \n",
      " 0   date           9131 non-null   object \n",
      " 1   temperature    9131 non-null   float64\n",
      " 2   flower_status  75 non-null     object \n",
      " 3   year           9131 non-null   object \n",
      " 4   month          9131 non-null   object \n",
      " 5   day            9131 non-null   object \n",
      "dtypes: float64(1), object(5)\n",
      "memory usage: 428.1+ KB\n"
     ]
    }
   ],
   "source": [
    "#split date column into three parts\n",
    "dates = sakura_df['date'].str.split('/', expand=True)\n",
    "sakura_df['year'], sakura_df['month'], sakura_df['day'] = dates[0], dates[1], dates[2]\n",
    "\n",
    "#check result\n",
    "sakura_df.info()"
   ]
  },
  {
   "cell_type": "code",
   "execution_count": 17,
   "id": "2e956503",
   "metadata": {},
   "outputs": [
    {
     "data": {
      "text/html": [
       "<div>\n",
       "<style scoped>\n",
       "    .dataframe tbody tr th:only-of-type {\n",
       "        vertical-align: middle;\n",
       "    }\n",
       "\n",
       "    .dataframe tbody tr th {\n",
       "        vertical-align: top;\n",
       "    }\n",
       "\n",
       "    .dataframe thead th {\n",
       "        text-align: right;\n",
       "    }\n",
       "</style>\n",
       "<table border=\"1\" class=\"dataframe\">\n",
       "  <thead>\n",
       "    <tr style=\"text-align: right;\">\n",
       "      <th></th>\n",
       "      <th>year</th>\n",
       "      <th>month</th>\n",
       "      <th>day</th>\n",
       "      <th>temperature</th>\n",
       "      <th>flower_status</th>\n",
       "    </tr>\n",
       "  </thead>\n",
       "  <tbody>\n",
       "    <tr>\n",
       "      <th>0</th>\n",
       "      <td>1997</td>\n",
       "      <td>1</td>\n",
       "      <td>1</td>\n",
       "      <td>2.9</td>\n",
       "      <td>4</td>\n",
       "    </tr>\n",
       "    <tr>\n",
       "      <th>1</th>\n",
       "      <td>1997</td>\n",
       "      <td>1</td>\n",
       "      <td>2</td>\n",
       "      <td>2.2</td>\n",
       "      <td>4</td>\n",
       "    </tr>\n",
       "    <tr>\n",
       "      <th>2</th>\n",
       "      <td>1997</td>\n",
       "      <td>1</td>\n",
       "      <td>3</td>\n",
       "      <td>-1.6</td>\n",
       "      <td>4</td>\n",
       "    </tr>\n",
       "    <tr>\n",
       "      <th>3</th>\n",
       "      <td>1997</td>\n",
       "      <td>1</td>\n",
       "      <td>4</td>\n",
       "      <td>0.2</td>\n",
       "      <td>4</td>\n",
       "    </tr>\n",
       "    <tr>\n",
       "      <th>4</th>\n",
       "      <td>1997</td>\n",
       "      <td>1</td>\n",
       "      <td>5</td>\n",
       "      <td>-0.4</td>\n",
       "      <td>4</td>\n",
       "    </tr>\n",
       "  </tbody>\n",
       "</table>\n",
       "</div>"
      ],
      "text/plain": [
       "   year month day  temperature  flower_status\n",
       "0  1997     1   1          2.9              4\n",
       "1  1997     1   2          2.2              4\n",
       "2  1997     1   3         -1.6              4\n",
       "3  1997     1   4          0.2              4\n",
       "4  1997     1   5         -0.4              4"
      ]
     },
     "execution_count": 17,
     "metadata": {},
     "output_type": "execute_result"
    }
   ],
   "source": [
    "#filling in flower status column\n",
    "# bloom: 0, full bloom: 1, scatter: 2, before/after/not blooming: 4\n",
    "sakura_df2 = []\n",
    "for x in range(len(sakura_df)):\n",
    "    year = sakura_df['year'][x]\n",
    "    month = sakura_df['month'][x]\n",
    "    day = sakura_df['day'][x]\n",
    "    temperature = sakura_df['temperature'][x]\n",
    "    flower_status = sakura_df['flower_status'][x]\n",
    "    if flower_status == 'bloom':\n",
    "        status = 0\n",
    "    elif flower_status == 'full':\n",
    "        status = 1\n",
    "    elif flower_status == 'scatter':\n",
    "        status = 2\n",
    "    else:\n",
    "        status = 4\n",
    "    sakura_dict = {'year':year, 'month':month, 'day':day, 'temperature':temperature, 'flower_status':status}\n",
    "    sakura_df2.append(sakura_dict)\n",
    "\n",
    "sakura_df2 = pd.DataFrame(sakura_df2)\n",
    "\n",
    "sakura_df2.head()"
   ]
  },
  {
   "cell_type": "code",
   "execution_count": 23,
   "id": "b923004e",
   "metadata": {},
   "outputs": [
    {
     "data": {
      "text/plain": [
       "month  flower_status\n",
       "5      1                  7\n",
       "       2                 12\n",
       "4      2                 13\n",
       "       1                 18\n",
       "       0                 25\n",
       "       4                694\n",
       "2      4                706\n",
       "11     4                750\n",
       "9      4                750\n",
       "6      4                750\n",
       "5      4                756\n",
       "3      4                775\n",
       "7      4                775\n",
       "12     4                775\n",
       "8      4                775\n",
       "10     4                775\n",
       "1      4                775\n",
       "dtype: int64"
      ]
     },
     "execution_count": 23,
     "metadata": {},
     "output_type": "execute_result"
    }
   ],
   "source": [
    "#count of all flower status values that actually indicate a bloom\n",
    "sakura_df2[['month', 'flower_status']].value_counts()\n",
    "\n",
    "#from this data we can see that the bloom has only occurred during the months of April and May in our dataset"
   ]
  },
  {
   "cell_type": "code",
   "execution_count": 25,
   "id": "9bf31988",
   "metadata": {},
   "outputs": [
    {
     "data": {
      "text/html": [
       "<div>\n",
       "<style scoped>\n",
       "    .dataframe tbody tr th:only-of-type {\n",
       "        vertical-align: middle;\n",
       "    }\n",
       "\n",
       "    .dataframe tbody tr th {\n",
       "        vertical-align: top;\n",
       "    }\n",
       "\n",
       "    .dataframe thead th {\n",
       "        text-align: right;\n",
       "    }\n",
       "</style>\n",
       "<table border=\"1\" class=\"dataframe\">\n",
       "  <thead>\n",
       "    <tr style=\"text-align: right;\">\n",
       "      <th></th>\n",
       "      <th>month</th>\n",
       "      <th>day</th>\n",
       "      <th>temperature</th>\n",
       "      <th>flower_status</th>\n",
       "    </tr>\n",
       "  </thead>\n",
       "  <tbody>\n",
       "    <tr>\n",
       "      <th>0</th>\n",
       "      <td>4</td>\n",
       "      <td>1</td>\n",
       "      <td>6.1</td>\n",
       "      <td>4</td>\n",
       "    </tr>\n",
       "    <tr>\n",
       "      <th>1</th>\n",
       "      <td>4</td>\n",
       "      <td>2</td>\n",
       "      <td>5.7</td>\n",
       "      <td>4</td>\n",
       "    </tr>\n",
       "    <tr>\n",
       "      <th>2</th>\n",
       "      <td>4</td>\n",
       "      <td>3</td>\n",
       "      <td>7.5</td>\n",
       "      <td>4</td>\n",
       "    </tr>\n",
       "    <tr>\n",
       "      <th>3</th>\n",
       "      <td>4</td>\n",
       "      <td>4</td>\n",
       "      <td>7.4</td>\n",
       "      <td>4</td>\n",
       "    </tr>\n",
       "    <tr>\n",
       "      <th>4</th>\n",
       "      <td>4</td>\n",
       "      <td>5</td>\n",
       "      <td>6.6</td>\n",
       "      <td>4</td>\n",
       "    </tr>\n",
       "  </tbody>\n",
       "</table>\n",
       "</div>"
      ],
      "text/plain": [
       "  month day  temperature  flower_status\n",
       "0     4   1          6.1              4\n",
       "1     4   2          5.7              4\n",
       "2     4   3          7.5              4\n",
       "3     4   4          7.4              4\n",
       "4     4   5          6.6              4"
      ]
     },
     "execution_count": 25,
     "metadata": {},
     "output_type": "execute_result"
    }
   ],
   "source": [
    "#creating a new dataframe to encapsulate only the blooming months\n",
    "sakura_bloom_df = []\n",
    "for x in range(len(sakura_df2)):\n",
    "    month = sakura_df2['month'][x]\n",
    "    if month == '4' or month == '5': #April or May\n",
    "        sakura_dict = {'month':month, 'day':sakura_df2['day'][x], 'temperature':sakura_df2['temperature'][x], 'flower_status':sakura_df2['flower_status'][x]}\n",
    "        sakura_bloom_df.append(sakura_dict)\n",
    "\n",
    "sakura_bloom_df = pd.DataFrame(sakura_bloom_df)\n",
    "sakura_bloom_df.head()\n"
   ]
  },
  {
   "cell_type": "code",
   "execution_count": null,
   "id": "f143be9a",
   "metadata": {},
   "outputs": [],
   "source": []
  }
 ],
 "metadata": {
  "kernelspec": {
   "display_name": "Python 3 (ipykernel)",
   "language": "python",
   "name": "python3"
  },
  "language_info": {
   "codemirror_mode": {
    "name": "ipython",
    "version": 3
   },
   "file_extension": ".py",
   "mimetype": "text/x-python",
   "name": "python",
   "nbconvert_exporter": "python",
   "pygments_lexer": "ipython3",
   "version": "3.9.12"
  }
 },
 "nbformat": 4,
 "nbformat_minor": 5
}
