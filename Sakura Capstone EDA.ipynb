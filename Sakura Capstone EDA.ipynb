{
 "cells": [
  {
   "cell_type": "code",
   "execution_count": 12,
   "id": "72a5d748",
   "metadata": {},
   "outputs": [],
   "source": [
    "#import relevant packages\n",
    "import numpy as np\n",
    "import pandas as pd\n",
    "import os\n",
    "import seaborn as sns\n",
    "import matplotlib.pyplot as plt\n",
    "\n",
    "#import data as .csv file and create a dataframe using pandas\n",
    "sakura_data = pd.read_csv('hirosaki_temp_cherry_bloom.csv')\n",
    "sakura_df = pd.DataFrame(sakura_data)"
   ]
  },
  {
   "cell_type": "markdown",
   "id": "c1803707",
   "metadata": {},
   "source": [
    "Data Cleaning:"
   ]
  },
  {
   "cell_type": "code",
   "execution_count": 13,
   "id": "4c9457bb",
   "metadata": {},
   "outputs": [
    {
     "name": "stdout",
     "output_type": "stream",
     "text": [
      "<class 'pandas.core.frame.DataFrame'>\n",
      "RangeIndex: 9131 entries, 0 to 9130\n",
      "Data columns (total 3 columns):\n",
      " #   Column         Non-Null Count  Dtype  \n",
      "---  ------         --------------  -----  \n",
      " 0   date           9131 non-null   object \n",
      " 1   temperature    9131 non-null   float64\n",
      " 2   flower_status  75 non-null     object \n",
      "dtypes: float64(1), object(2)\n",
      "memory usage: 214.1+ KB\n"
     ]
    }
   ],
   "source": [
    "#start checking out the data and getting summary info\n",
    "sakura_df.info()"
   ]
  },
  {
   "cell_type": "code",
   "execution_count": 14,
   "id": "a9d65321",
   "metadata": {},
   "outputs": [
    {
     "data": {
      "text/html": [
       "<div>\n",
       "<style scoped>\n",
       "    .dataframe tbody tr th:only-of-type {\n",
       "        vertical-align: middle;\n",
       "    }\n",
       "\n",
       "    .dataframe tbody tr th {\n",
       "        vertical-align: top;\n",
       "    }\n",
       "\n",
       "    .dataframe thead th {\n",
       "        text-align: right;\n",
       "    }\n",
       "</style>\n",
       "<table border=\"1\" class=\"dataframe\">\n",
       "  <thead>\n",
       "    <tr style=\"text-align: right;\">\n",
       "      <th></th>\n",
       "      <th>date</th>\n",
       "      <th>temperature</th>\n",
       "      <th>flower_status</th>\n",
       "    </tr>\n",
       "  </thead>\n",
       "  <tbody>\n",
       "    <tr>\n",
       "      <th>0</th>\n",
       "      <td>1997/1/1</td>\n",
       "      <td>2.9</td>\n",
       "      <td>NaN</td>\n",
       "    </tr>\n",
       "    <tr>\n",
       "      <th>1</th>\n",
       "      <td>1997/1/2</td>\n",
       "      <td>2.2</td>\n",
       "      <td>NaN</td>\n",
       "    </tr>\n",
       "    <tr>\n",
       "      <th>2</th>\n",
       "      <td>1997/1/3</td>\n",
       "      <td>-1.6</td>\n",
       "      <td>NaN</td>\n",
       "    </tr>\n",
       "    <tr>\n",
       "      <th>3</th>\n",
       "      <td>1997/1/4</td>\n",
       "      <td>0.2</td>\n",
       "      <td>NaN</td>\n",
       "    </tr>\n",
       "    <tr>\n",
       "      <th>4</th>\n",
       "      <td>1997/1/5</td>\n",
       "      <td>-0.4</td>\n",
       "      <td>NaN</td>\n",
       "    </tr>\n",
       "  </tbody>\n",
       "</table>\n",
       "</div>"
      ],
      "text/plain": [
       "       date  temperature flower_status\n",
       "0  1997/1/1          2.9           NaN\n",
       "1  1997/1/2          2.2           NaN\n",
       "2  1997/1/3         -1.6           NaN\n",
       "3  1997/1/4          0.2           NaN\n",
       "4  1997/1/5         -0.4           NaN"
      ]
     },
     "execution_count": 14,
     "metadata": {},
     "output_type": "execute_result"
    }
   ],
   "source": [
    "sakura_df.head()\n",
    "\n",
    "#there are only 3 columns and it seems like \"flower_status\" is missing a lot of values (because the flowers only bloom for a short period of time per year)"
   ]
  },
  {
   "cell_type": "code",
   "execution_count": 15,
   "id": "4c87d396",
   "metadata": {},
   "outputs": [
    {
     "name": "stdout",
     "output_type": "stream",
     "text": [
      "<class 'pandas.core.frame.DataFrame'>\n",
      "RangeIndex: 9131 entries, 0 to 9130\n",
      "Data columns (total 6 columns):\n",
      " #   Column         Non-Null Count  Dtype  \n",
      "---  ------         --------------  -----  \n",
      " 0   date           9131 non-null   object \n",
      " 1   temperature    9131 non-null   float64\n",
      " 2   flower_status  75 non-null     object \n",
      " 3   year           9131 non-null   object \n",
      " 4   month          9131 non-null   object \n",
      " 5   day            9131 non-null   object \n",
      "dtypes: float64(1), object(5)\n",
      "memory usage: 428.1+ KB\n"
     ]
    }
   ],
   "source": [
    "#split date column into three parts\n",
    "dates = sakura_df['date'].str.split('/', expand=True)\n",
    "sakura_df['year'], sakura_df['month'], sakura_df['day'] = dates[0], dates[1], dates[2]\n",
    "\n",
    "#check result\n",
    "sakura_df.info()"
   ]
  },
  {
   "cell_type": "code",
   "execution_count": 16,
   "id": "6800f656",
   "metadata": {},
   "outputs": [
    {
     "data": {
      "text/html": [
       "<div>\n",
       "<style scoped>\n",
       "    .dataframe tbody tr th:only-of-type {\n",
       "        vertical-align: middle;\n",
       "    }\n",
       "\n",
       "    .dataframe tbody tr th {\n",
       "        vertical-align: top;\n",
       "    }\n",
       "\n",
       "    .dataframe thead th {\n",
       "        text-align: right;\n",
       "    }\n",
       "</style>\n",
       "<table border=\"1\" class=\"dataframe\">\n",
       "  <thead>\n",
       "    <tr style=\"text-align: right;\">\n",
       "      <th></th>\n",
       "      <th>year</th>\n",
       "      <th>month</th>\n",
       "      <th>day</th>\n",
       "      <th>temperature</th>\n",
       "      <th>flower_status</th>\n",
       "    </tr>\n",
       "  </thead>\n",
       "  <tbody>\n",
       "    <tr>\n",
       "      <th>0</th>\n",
       "      <td>1997</td>\n",
       "      <td>1</td>\n",
       "      <td>1</td>\n",
       "      <td>2.9</td>\n",
       "      <td>3</td>\n",
       "    </tr>\n",
       "    <tr>\n",
       "      <th>1</th>\n",
       "      <td>1997</td>\n",
       "      <td>1</td>\n",
       "      <td>2</td>\n",
       "      <td>2.2</td>\n",
       "      <td>3</td>\n",
       "    </tr>\n",
       "    <tr>\n",
       "      <th>2</th>\n",
       "      <td>1997</td>\n",
       "      <td>1</td>\n",
       "      <td>3</td>\n",
       "      <td>-1.6</td>\n",
       "      <td>3</td>\n",
       "    </tr>\n",
       "    <tr>\n",
       "      <th>3</th>\n",
       "      <td>1997</td>\n",
       "      <td>1</td>\n",
       "      <td>4</td>\n",
       "      <td>0.2</td>\n",
       "      <td>3</td>\n",
       "    </tr>\n",
       "    <tr>\n",
       "      <th>4</th>\n",
       "      <td>1997</td>\n",
       "      <td>1</td>\n",
       "      <td>5</td>\n",
       "      <td>-0.4</td>\n",
       "      <td>3</td>\n",
       "    </tr>\n",
       "  </tbody>\n",
       "</table>\n",
       "</div>"
      ],
      "text/plain": [
       "   year month day  temperature  flower_status\n",
       "0  1997     1   1          2.9              3\n",
       "1  1997     1   2          2.2              3\n",
       "2  1997     1   3         -1.6              3\n",
       "3  1997     1   4          0.2              3\n",
       "4  1997     1   5         -0.4              3"
      ]
     },
     "execution_count": 16,
     "metadata": {},
     "output_type": "execute_result"
    }
   ],
   "source": [
    "#filling in flower status column\n",
    "# bloom: 0, full bloom: 1, scatter: 2, before/after/not blooming: 3\n",
    "sakura_df2 = []\n",
    "for x in range(len(sakura_df)):\n",
    "    year = sakura_df['year'][x]\n",
    "    month = sakura_df['month'][x]\n",
    "    day = sakura_df['day'][x]\n",
    "    temperature = sakura_df['temperature'][x]\n",
    "    flower_status = sakura_df['flower_status'][x]\n",
    "    if flower_status == 'bloom':\n",
    "        status = 0\n",
    "    elif flower_status == 'full':\n",
    "        status = 1\n",
    "    elif flower_status == 'scatter':\n",
    "        status = 2\n",
    "    else:\n",
    "        status = 3\n",
    "    sakura_dict = {'year':year, 'month':month, 'day':day, 'temperature':temperature, 'flower_status':status}\n",
    "    sakura_df2.append(sakura_dict)\n",
    "\n",
    "sakura_df2 = pd.DataFrame(sakura_df2)\n",
    "\n",
    "sakura_df2.head()"
   ]
  },
  {
   "cell_type": "code",
   "execution_count": 17,
   "id": "77589019",
   "metadata": {},
   "outputs": [
    {
     "data": {
      "text/plain": [
       "month  flower_status\n",
       "1      3                775\n",
       "10     3                775\n",
       "8      3                775\n",
       "12     3                775\n",
       "7      3                775\n",
       "3      3                775\n",
       "5      3                756\n",
       "6      3                750\n",
       "9      3                750\n",
       "11     3                750\n",
       "2      3                706\n",
       "4      3                694\n",
       "       0                 25\n",
       "       1                 18\n",
       "       2                 13\n",
       "5      2                 12\n",
       "       1                  7\n",
       "dtype: int64"
      ]
     },
     "execution_count": 17,
     "metadata": {},
     "output_type": "execute_result"
    }
   ],
   "source": [
    "#count of all flower status values that actually indicate a bloom\n",
    "sakura_df2[['month', 'flower_status']].value_counts()\n",
    "\n",
    "#from this data we can see that the bloom has only occurred during the months of April and May in our dataset"
   ]
  },
  {
   "cell_type": "code",
   "execution_count": 20,
   "id": "a70aa84b",
   "metadata": {},
   "outputs": [
    {
     "data": {
      "text/html": [
       "<div>\n",
       "<style scoped>\n",
       "    .dataframe tbody tr th:only-of-type {\n",
       "        vertical-align: middle;\n",
       "    }\n",
       "\n",
       "    .dataframe tbody tr th {\n",
       "        vertical-align: top;\n",
       "    }\n",
       "\n",
       "    .dataframe thead th {\n",
       "        text-align: right;\n",
       "    }\n",
       "</style>\n",
       "<table border=\"1\" class=\"dataframe\">\n",
       "  <thead>\n",
       "    <tr style=\"text-align: right;\">\n",
       "      <th></th>\n",
       "      <th>month</th>\n",
       "      <th>day</th>\n",
       "      <th>temperature</th>\n",
       "      <th>flower_status</th>\n",
       "    </tr>\n",
       "  </thead>\n",
       "  <tbody>\n",
       "    <tr>\n",
       "      <th>0</th>\n",
       "      <td>4</td>\n",
       "      <td>1</td>\n",
       "      <td>6.1</td>\n",
       "      <td>3</td>\n",
       "    </tr>\n",
       "    <tr>\n",
       "      <th>1</th>\n",
       "      <td>4</td>\n",
       "      <td>2</td>\n",
       "      <td>5.7</td>\n",
       "      <td>3</td>\n",
       "    </tr>\n",
       "    <tr>\n",
       "      <th>2</th>\n",
       "      <td>4</td>\n",
       "      <td>3</td>\n",
       "      <td>7.5</td>\n",
       "      <td>3</td>\n",
       "    </tr>\n",
       "    <tr>\n",
       "      <th>3</th>\n",
       "      <td>4</td>\n",
       "      <td>4</td>\n",
       "      <td>7.4</td>\n",
       "      <td>3</td>\n",
       "    </tr>\n",
       "    <tr>\n",
       "      <th>4</th>\n",
       "      <td>4</td>\n",
       "      <td>5</td>\n",
       "      <td>6.6</td>\n",
       "      <td>3</td>\n",
       "    </tr>\n",
       "  </tbody>\n",
       "</table>\n",
       "</div>"
      ],
      "text/plain": [
       "  month day  temperature  flower_status\n",
       "0     4   1          6.1              3\n",
       "1     4   2          5.7              3\n",
       "2     4   3          7.5              3\n",
       "3     4   4          7.4              3\n",
       "4     4   5          6.6              3"
      ]
     },
     "execution_count": 20,
     "metadata": {},
     "output_type": "execute_result"
    }
   ],
   "source": [
    "#creating a new dataframe to encapsulate only the blooming months\n",
    "sakura_bloom_df = []\n",
    "for x in range(len(sakura_df2)):\n",
    "    month = sakura_df2['month'][x]\n",
    "    if month == '4' or month == '5': #April or May\n",
    "        sakura_dict = {'month':month, 'day':sakura_df2['day'][x], 'temperature':sakura_df2['temperature'][x], 'flower_status':sakura_df2['flower_status'][x]}\n",
    "        sakura_bloom_df.append(sakura_dict)\n",
    "\n",
    "sakura_bloom_df = pd.DataFrame(sakura_bloom_df)\n",
    "sakura_bloom_df.head()\n"
   ]
  },
  {
   "cell_type": "markdown",
   "id": "fc86eb23",
   "metadata": {},
   "source": [
    "Data Relationship Analysis/EDA"
   ]
  },
  {
   "cell_type": "code",
   "execution_count": 22,
   "id": "280d8981",
   "metadata": {
    "scrolled": true
   },
   "outputs": [
    {
     "data": {
      "image/png": "[encoded data removed]",
      "text/plain": [
       "<Figure size 432x288 with 1 Axes>"
      ]
     },
     "metadata": {
      "needs_background": "light"
     },
     "output_type": "display_data"
    }
   ],
   "source": [
    "#visualizing what percentage of the time within the blooming months we actually see blooming flowers (to any extent)\n",
    "\n",
    "_ = sns.countplot(data=sakura_bloom_df, x='flower_status', hue='month')\n",
    "plt.xlabel('Flower status')\n",
    "plt.ylabel('Frequency')\n",
    "plt.title('Sakura bloom status in April and May')\n",
    "plt.show()"
   ]
  },
  {
   "cell_type": "markdown",
   "id": "3cdedcda",
   "metadata": {},
   "source": [
    "From this figure we can clearly see that, even during the two blooming months, the actual bloom period is short."
   ]
  },
  {
   "cell_type": "code",
   "execution_count": 25,
   "id": "46ea6c8a",
   "metadata": {},
   "outputs": [
    {
     "data": {
      "image/png": "[encoded data removed]",
      "text/plain": [
       "<Figure size 432x288 with 1 Axes>"
      ]
     },
     "metadata": {
      "needs_background": "light"
     },
     "output_type": "display_data"
    }
   ],
   "source": [
    "#visualizing the relationship between temperature and bloom status within the two blooming months\n",
    "\n",
    "sns.boxplot(data=sakura_bloom_df,\n",
    "            x='flower_status',\n",
    "            y='temperature')\n",
    "plt.xlabel('Flower status')\n",
    "plt.ylabel('Temperature')\n",
    "plt.show()"
   ]
  },
  {
   "cell_type": "markdown",
   "id": "ddf67ea8",
   "metadata": {},
   "source": [
    "From this figure we can see that the median temperature of all 4 bloom statuses, from no flowers to full bloom, is relatively similar, clustered between roughly 10-13 degrees C. However, the range of temperatures associated with the non-bloom status is significantly wider than the blooming statuses. If we include the outliers of the boxplot for status 1, we can note that the temperature range tightens with each step towards the full bloom status."
   ]
  },
  {
   "cell_type": "code",
   "execution_count": 35,
   "id": "98c8a644",
   "metadata": {},
   "outputs": [
    {
     "data": {
      "text/plain": [
       "Text(0.5, 0.98, 'Sakura Bloom Feature Correlation for Blooming Months')"
      ]
     },
     "execution_count": 35,
     "metadata": {},
     "output_type": "execute_result"
    },
    {
     "data": {
      "image/png": "[encoded data removed]",
      "text/plain": [
       "<Figure size 864x648 with 2 Axes>"
      ]
     },
     "metadata": {
      "needs_background": "light"
     },
     "output_type": "display_data"
    }
   ],
   "source": [
    "#creating a correlation matrix/heatmap to look at the correlation of all variables/features within the dataset\n",
    "\n",
    "corr_mat = sakura_bloom_df.corr()\n",
    "f, ax = plt.subplots(figsize=(12,9))\n",
    "hm = sns.heatmap(round(corr_mat,2), annot=True, ax=ax, cmap='coolwarm')\n",
    "f.suptitle('Sakura Bloom Feature Correlation for Blooming Months')\n",
    "\n"
   ]
  },
  {
   "cell_type": "markdown",
   "id": "dc463e71",
   "metadata": {},
   "source": [
    "There are only two features being analyzed here, but it is interesting (and maybe a little disheartening) to note that temperature and flower status are not very well correlated in the dataset."
   ]
  },
  {
   "cell_type": "code",
   "execution_count": 36,
   "id": "2d24898d",
   "metadata": {},
   "outputs": [
    {
     "data": {
      "text/plain": [
       "<seaborn.axisgrid.PairGrid at 0x7fc6a068e310>"
      ]
     },
     "execution_count": 36,
     "metadata": {},
     "output_type": "execute_result"
    },
    {
     "data": {
      "image/png": "[encoded data removed]",
      "text/plain": [
       "<Figure size 360x360 with 6 Axes>"
      ]
     },
     "metadata": {
      "needs_background": "light"
     },
     "output_type": "display_data"
    }
   ],
   "source": [
    "#another visualization of what we've seen above\n",
    "sns.pairplot(sakura_bloom_df)"
   ]
  },
  {
   "cell_type": "code",
   "execution_count": 47,
   "id": "8c85391e",
   "metadata": {},
   "outputs": [],
   "source": [
    "#checking out each bloom month individually to see the bloom timeline - split into 2 dataframes\n",
    "\n",
    "april_df = sakura_bloom_df[sakura_bloom_df['month'] == '4']\n",
    "may_df = sakura_bloom_df[sakura_bloom_df['month'] == '5']"
   ]
  },
  {
   "cell_type": "code",
   "execution_count": 72,
   "id": "c192576d",
   "metadata": {},
   "outputs": [
    {
     "data": {
      "image/png": "[encoded data removed]",
      "text/plain": [
       "<Figure size 432x288 with 1 Axes>"
      ]
     },
     "metadata": {
      "needs_background": "light"
     },
     "output_type": "display_data"
    }
   ],
   "source": [
    "scatter_apr = sns.scatterplot(data=april_df, x='flower_status', y='day')\n",
    "\n",
    "plt.xticks([0,1,2,3], ['bloom', 'full bloom', 'scatter', 'no bloom'])\n",
    "plt.xlabel('Flower status')\n",
    "plt.ylabel('Day of the month')\n",
    "plt.title('Blooming Status by Date - April')\n",
    "plt.show()"
   ]
  },
  {
   "cell_type": "code",
   "execution_count": 73,
   "id": "28f67c4d",
   "metadata": {},
   "outputs": [
    {
     "data": {
      "image/png": "[encoded data removed]",
      "text/plain": [
       "<Figure size 432x288 with 1 Axes>"
      ]
     },
     "metadata": {
      "needs_background": "light"
     },
     "output_type": "display_data"
    }
   ],
   "source": [
    "scatter_may = sns.scatterplot(data=may_df, x='flower_status', y='day')\n",
    "\n",
    "plt.xticks([0,1,2,3], ['bloom', 'full bloom', 'scatter', 'no bloom'])\n",
    "plt.xlabel('Flower status')\n",
    "plt.ylabel('Day of the month')\n",
    "plt.title('Blooming Status by Date - May')\n",
    "plt.show()"
   ]
  },
  {
   "cell_type": "markdown",
   "id": "5e461294",
   "metadata": {},
   "source": [
    "These two plots indicate that we can expect the bloom to start at the earliest in mid-April, and end at the latest in early/mid-May. This will be useful information when modeling our predictions for future years."
   ]
  },
  {
   "cell_type": "code",
   "execution_count": null,
   "id": "215ab9dc",
   "metadata": {},
   "outputs": [],
   "source": []
  }
 ],
 "metadata": {
  "kernelspec": {
   "display_name": "Python 3 (ipykernel)",
   "language": "python",
   "name": "python3"
  },
  "language_info": {
   "codemirror_mode": {
    "name": "ipython",
    "version": 3
   },
   "file_extension": ".py",
   "mimetype": "text/x-python",
   "name": "python",
   "nbconvert_exporter": "python",
   "pygments_lexer": "ipython3",
   "version": "3.9.12"
  }
 },
 "nbformat": 4,
 "nbformat_minor": 5
}
