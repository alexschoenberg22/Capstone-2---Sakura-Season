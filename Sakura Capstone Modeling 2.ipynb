{
 "cells": [
  {
   "cell_type": "code",
   "execution_count": 1,
   "id": "72a5d748",
   "metadata": {},
   "outputs": [],
   "source": [
    "#import relevant packages\n",
    "import numpy as np\n",
    "import pandas as pd\n",
    "import os\n",
    "import seaborn as sns\n",
    "import matplotlib.pyplot as plt\n",
    "\n",
    "#import data as .csv file and create a dataframe using pandas\n",
    "sakura_data = pd.read_csv('hirosaki_temp_cherry_bloom.csv')\n",
    "sakura_df = pd.DataFrame(sakura_data)"
   ]
  },
  {
   "cell_type": "markdown",
   "id": "c1803707",
   "metadata": {},
   "source": [
    "# Data Cleaning:"
   ]
  },
  {
   "cell_type": "code",
   "execution_count": 2,
   "id": "4c9457bb",
   "metadata": {},
   "outputs": [
    {
     "name": "stdout",
     "output_type": "stream",
     "text": [
      "<class 'pandas.core.frame.DataFrame'>\n",
      "RangeIndex: 9131 entries, 0 to 9130\n",
      "Data columns (total 3 columns):\n",
      " #   Column         Non-Null Count  Dtype  \n",
      "---  ------         --------------  -----  \n",
      " 0   date           9131 non-null   object \n",
      " 1   temperature    9131 non-null   float64\n",
      " 2   flower_status  75 non-null     object \n",
      "dtypes: float64(1), object(2)\n",
      "memory usage: 214.1+ KB\n"
     ]
    }
   ],
   "source": [
    "#start checking out the data and getting summary info\n",
    "sakura_df.info()"
   ]
  },
  {
   "cell_type": "code",
   "execution_count": 3,
   "id": "a9d65321",
   "metadata": {},
   "outputs": [
    {
     "data": {
      "text/html": [
       "<div>\n",
       "<style scoped>\n",
       "    .dataframe tbody tr th:only-of-type {\n",
       "        vertical-align: middle;\n",
       "    }\n",
       "\n",
       "    .dataframe tbody tr th {\n",
       "        vertical-align: top;\n",
       "    }\n",
       "\n",
       "    .dataframe thead th {\n",
       "        text-align: right;\n",
       "    }\n",
       "</style>\n",
       "<table border=\"1\" class=\"dataframe\">\n",
       "  <thead>\n",
       "    <tr style=\"text-align: right;\">\n",
       "      <th></th>\n",
       "      <th>date</th>\n",
       "      <th>temperature</th>\n",
       "      <th>flower_status</th>\n",
       "    </tr>\n",
       "  </thead>\n",
       "  <tbody>\n",
       "    <tr>\n",
       "      <th>0</th>\n",
       "      <td>1997/1/1</td>\n",
       "      <td>2.9</td>\n",
       "      <td>NaN</td>\n",
       "    </tr>\n",
       "    <tr>\n",
       "      <th>1</th>\n",
       "      <td>1997/1/2</td>\n",
       "      <td>2.2</td>\n",
       "      <td>NaN</td>\n",
       "    </tr>\n",
       "    <tr>\n",
       "      <th>2</th>\n",
       "      <td>1997/1/3</td>\n",
       "      <td>-1.6</td>\n",
       "      <td>NaN</td>\n",
       "    </tr>\n",
       "    <tr>\n",
       "      <th>3</th>\n",
       "      <td>1997/1/4</td>\n",
       "      <td>0.2</td>\n",
       "      <td>NaN</td>\n",
       "    </tr>\n",
       "    <tr>\n",
       "      <th>4</th>\n",
       "      <td>1997/1/5</td>\n",
       "      <td>-0.4</td>\n",
       "      <td>NaN</td>\n",
       "    </tr>\n",
       "  </tbody>\n",
       "</table>\n",
       "</div>"
      ],
      "text/plain": [
       "       date  temperature flower_status\n",
       "0  1997/1/1          2.9           NaN\n",
       "1  1997/1/2          2.2           NaN\n",
       "2  1997/1/3         -1.6           NaN\n",
       "3  1997/1/4          0.2           NaN\n",
       "4  1997/1/5         -0.4           NaN"
      ]
     },
     "execution_count": 3,
     "metadata": {},
     "output_type": "execute_result"
    }
   ],
   "source": [
    "sakura_df.head()\n",
    "\n",
    "#there are only 3 columns and it seems like \"flower_status\" is missing a lot of values (because the flowers only bloom for a short period of time per year)"
   ]
  },
  {
   "cell_type": "code",
   "execution_count": 4,
   "id": "4c87d396",
   "metadata": {},
   "outputs": [
    {
     "name": "stdout",
     "output_type": "stream",
     "text": [
      "<class 'pandas.core.frame.DataFrame'>\n",
      "RangeIndex: 9131 entries, 0 to 9130\n",
      "Data columns (total 6 columns):\n",
      " #   Column         Non-Null Count  Dtype  \n",
      "---  ------         --------------  -----  \n",
      " 0   date           9131 non-null   object \n",
      " 1   temperature    9131 non-null   float64\n",
      " 2   flower_status  75 non-null     object \n",
      " 3   year           9131 non-null   object \n",
      " 4   month          9131 non-null   object \n",
      " 5   day            9131 non-null   object \n",
      "dtypes: float64(1), object(5)\n",
      "memory usage: 428.1+ KB\n"
     ]
    }
   ],
   "source": [
    "#split date column into three parts\n",
    "dates = sakura_df['date'].str.split('/', expand=True)\n",
    "sakura_df['year'], sakura_df['month'], sakura_df['day'] = dates[0], dates[1], dates[2]\n",
    "\n",
    "#check result\n",
    "sakura_df.info()"
   ]
  },
  {
   "cell_type": "code",
   "execution_count": 5,
   "id": "6800f656",
   "metadata": {},
   "outputs": [
    {
     "data": {
      "text/html": [
       "<div>\n",
       "<style scoped>\n",
       "    .dataframe tbody tr th:only-of-type {\n",
       "        vertical-align: middle;\n",
       "    }\n",
       "\n",
       "    .dataframe tbody tr th {\n",
       "        vertical-align: top;\n",
       "    }\n",
       "\n",
       "    .dataframe thead th {\n",
       "        text-align: right;\n",
       "    }\n",
       "</style>\n",
       "<table border=\"1\" class=\"dataframe\">\n",
       "  <thead>\n",
       "    <tr style=\"text-align: right;\">\n",
       "      <th></th>\n",
       "      <th>year</th>\n",
       "      <th>month</th>\n",
       "      <th>day</th>\n",
       "      <th>temperature</th>\n",
       "      <th>flower_status</th>\n",
       "    </tr>\n",
       "  </thead>\n",
       "  <tbody>\n",
       "    <tr>\n",
       "      <th>0</th>\n",
       "      <td>1997</td>\n",
       "      <td>1</td>\n",
       "      <td>1</td>\n",
       "      <td>2.9</td>\n",
       "      <td>3</td>\n",
       "    </tr>\n",
       "    <tr>\n",
       "      <th>1</th>\n",
       "      <td>1997</td>\n",
       "      <td>1</td>\n",
       "      <td>2</td>\n",
       "      <td>2.2</td>\n",
       "      <td>3</td>\n",
       "    </tr>\n",
       "    <tr>\n",
       "      <th>2</th>\n",
       "      <td>1997</td>\n",
       "      <td>1</td>\n",
       "      <td>3</td>\n",
       "      <td>-1.6</td>\n",
       "      <td>3</td>\n",
       "    </tr>\n",
       "    <tr>\n",
       "      <th>3</th>\n",
       "      <td>1997</td>\n",
       "      <td>1</td>\n",
       "      <td>4</td>\n",
       "      <td>0.2</td>\n",
       "      <td>3</td>\n",
       "    </tr>\n",
       "    <tr>\n",
       "      <th>4</th>\n",
       "      <td>1997</td>\n",
       "      <td>1</td>\n",
       "      <td>5</td>\n",
       "      <td>-0.4</td>\n",
       "      <td>3</td>\n",
       "    </tr>\n",
       "  </tbody>\n",
       "</table>\n",
       "</div>"
      ],
      "text/plain": [
       "   year month day  temperature  flower_status\n",
       "0  1997     1   1          2.9              3\n",
       "1  1997     1   2          2.2              3\n",
       "2  1997     1   3         -1.6              3\n",
       "3  1997     1   4          0.2              3\n",
       "4  1997     1   5         -0.4              3"
      ]
     },
     "execution_count": 5,
     "metadata": {},
     "output_type": "execute_result"
    }
   ],
   "source": [
    "#filling in flower status column\n",
    "# bloom: 0, full bloom: 1, scatter: 2, before/after/not blooming: 3\n",
    "sakura_df2 = []\n",
    "for x in range(len(sakura_df)):\n",
    "    year = sakura_df['year'][x]\n",
    "    month = sakura_df['month'][x]\n",
    "    day = sakura_df['day'][x]\n",
    "    temperature = sakura_df['temperature'][x]\n",
    "    flower_status = sakura_df['flower_status'][x]\n",
    "    if flower_status == 'bloom':\n",
    "        status = 0\n",
    "    elif flower_status == 'full':\n",
    "        status = 1\n",
    "    elif flower_status == 'scatter':\n",
    "        status = 2\n",
    "    else:\n",
    "        status = 3\n",
    "    sakura_dict = {'year':year, 'month':month, 'day':day, 'temperature':temperature, 'flower_status':status}\n",
    "    sakura_df2.append(sakura_dict)\n",
    "\n",
    "sakura_df2 = pd.DataFrame(sakura_df2)\n",
    "\n",
    "sakura_df2.head()"
   ]
  },
  {
   "cell_type": "code",
   "execution_count": 6,
   "id": "77589019",
   "metadata": {},
   "outputs": [
    {
     "data": {
      "text/plain": [
       "month  flower_status\n",
       "1      3                775\n",
       "10     3                775\n",
       "8      3                775\n",
       "12     3                775\n",
       "7      3                775\n",
       "3      3                775\n",
       "5      3                756\n",
       "6      3                750\n",
       "9      3                750\n",
       "11     3                750\n",
       "2      3                706\n",
       "4      3                694\n",
       "       0                 25\n",
       "       1                 18\n",
       "       2                 13\n",
       "5      2                 12\n",
       "       1                  7\n",
       "dtype: int64"
      ]
     },
     "execution_count": 6,
     "metadata": {},
     "output_type": "execute_result"
    }
   ],
   "source": [
    "#count of all flower status values that actually indicate a bloom\n",
    "sakura_df2[['month', 'flower_status']].value_counts()\n",
    "\n",
    "#from this data we can see that the bloom has only occurred during the months of April and May in our dataset"
   ]
  },
  {
   "cell_type": "code",
   "execution_count": 7,
   "id": "a70aa84b",
   "metadata": {},
   "outputs": [
    {
     "data": {
      "text/html": [
       "<div>\n",
       "<style scoped>\n",
       "    .dataframe tbody tr th:only-of-type {\n",
       "        vertical-align: middle;\n",
       "    }\n",
       "\n",
       "    .dataframe tbody tr th {\n",
       "        vertical-align: top;\n",
       "    }\n",
       "\n",
       "    .dataframe thead th {\n",
       "        text-align: right;\n",
       "    }\n",
       "</style>\n",
       "<table border=\"1\" class=\"dataframe\">\n",
       "  <thead>\n",
       "    <tr style=\"text-align: right;\">\n",
       "      <th></th>\n",
       "      <th>month</th>\n",
       "      <th>day</th>\n",
       "      <th>temperature</th>\n",
       "      <th>flower_status</th>\n",
       "    </tr>\n",
       "  </thead>\n",
       "  <tbody>\n",
       "    <tr>\n",
       "      <th>0</th>\n",
       "      <td>4</td>\n",
       "      <td>1</td>\n",
       "      <td>6.1</td>\n",
       "      <td>3</td>\n",
       "    </tr>\n",
       "    <tr>\n",
       "      <th>1</th>\n",
       "      <td>4</td>\n",
       "      <td>2</td>\n",
       "      <td>5.7</td>\n",
       "      <td>3</td>\n",
       "    </tr>\n",
       "    <tr>\n",
       "      <th>2</th>\n",
       "      <td>4</td>\n",
       "      <td>3</td>\n",
       "      <td>7.5</td>\n",
       "      <td>3</td>\n",
       "    </tr>\n",
       "    <tr>\n",
       "      <th>3</th>\n",
       "      <td>4</td>\n",
       "      <td>4</td>\n",
       "      <td>7.4</td>\n",
       "      <td>3</td>\n",
       "    </tr>\n",
       "    <tr>\n",
       "      <th>4</th>\n",
       "      <td>4</td>\n",
       "      <td>5</td>\n",
       "      <td>6.6</td>\n",
       "      <td>3</td>\n",
       "    </tr>\n",
       "  </tbody>\n",
       "</table>\n",
       "</div>"
      ],
      "text/plain": [
       "  month day  temperature  flower_status\n",
       "0     4   1          6.1              3\n",
       "1     4   2          5.7              3\n",
       "2     4   3          7.5              3\n",
       "3     4   4          7.4              3\n",
       "4     4   5          6.6              3"
      ]
     },
     "execution_count": 7,
     "metadata": {},
     "output_type": "execute_result"
    }
   ],
   "source": [
    "#creating a new dataframe to encapsulate only the blooming months\n",
    "sakura_bloom_df = []\n",
    "for x in range(len(sakura_df2)):\n",
    "    month = sakura_df2['month'][x]\n",
    "    if month == '4' or month == '5': #April or May\n",
    "        sakura_dict = {'month':month, 'day':sakura_df2['day'][x], 'temperature':sakura_df2['temperature'][x], 'flower_status':sakura_df2['flower_status'][x]}\n",
    "        sakura_bloom_df.append(sakura_dict)\n",
    "\n",
    "sakura_bloom_df = pd.DataFrame(sakura_bloom_df)\n",
    "sakura_bloom_df.head()\n"
   ]
  },
  {
   "cell_type": "markdown",
   "id": "fc86eb23",
   "metadata": {},
   "source": [
    "# Data Relationship Analysis/EDA"
   ]
  },
  {
   "cell_type": "code",
   "execution_count": 8,
   "id": "280d8981",
   "metadata": {
    "scrolled": true
   },
   "outputs": [
    {
     "data": {
      "image/png": "[encoded data removed]",
      "text/plain": [
       "<Figure size 432x288 with 1 Axes>"
      ]
     },
     "metadata": {
      "needs_background": "light"
     },
     "output_type": "display_data"
    }
   ],
   "source": [
    "#visualizing what percentage of the time within the blooming months we actually see blooming flowers (to any extent)\n",
    "\n",
    "_ = sns.countplot(data=sakura_bloom_df, x='flower_status', hue='month')\n",
    "plt.xlabel('Flower status')\n",
    "plt.ylabel('Frequency')\n",
    "plt.title('Sakura bloom status in April and May')\n",
    "plt.show()"
   ]
  },
  {
   "cell_type": "markdown",
   "id": "3cdedcda",
   "metadata": {},
   "source": [
    "From this figure we can clearly see that, even during the two blooming months, the actual bloom period is short."
   ]
  },
  {
   "cell_type": "code",
   "execution_count": 9,
   "id": "46ea6c8a",
   "metadata": {},
   "outputs": [
    {
     "data": {
      "image/png": "[encoded data removed]",
      "text/plain": [
       "<Figure size 432x288 with 1 Axes>"
      ]
     },
     "metadata": {
      "needs_background": "light"
     },
     "output_type": "display_data"
    }
   ],
   "source": [
    "#visualizing the relationship between temperature and bloom status within the two blooming months\n",
    "\n",
    "sns.boxplot(data=sakura_bloom_df,\n",
    "            x='flower_status',\n",
    "            y='temperature')\n",
    "plt.xlabel('Flower status')\n",
    "plt.ylabel('Temperature')\n",
    "plt.show()"
   ]
  },
  {
   "cell_type": "markdown",
   "id": "ddf67ea8",
   "metadata": {},
   "source": [
    "From this figure we can see that the median temperature of all 4 bloom statuses, from no flowers to full bloom, is relatively similar, clustered between roughly 10-13 degrees C. However, the range of temperatures associated with the non-bloom status is significantly wider than the blooming statuses. If we include the outliers of the boxplot for status 1, we can note that the temperature range tightens with each step towards the full bloom status."
   ]
  },
  {
   "cell_type": "code",
   "execution_count": 10,
   "id": "98c8a644",
   "metadata": {},
   "outputs": [
    {
     "data": {
      "text/plain": [
       "Text(0.5, 0.98, 'Sakura Bloom Feature Correlation for Blooming Months')"
      ]
     },
     "execution_count": 10,
     "metadata": {},
     "output_type": "execute_result"
    },
    {
     "data": {
      "image/png": "[encoded data removed]",
      "text/plain": [
       "<Figure size 864x648 with 2 Axes>"
      ]
     },
     "metadata": {
      "needs_background": "light"
     },
     "output_type": "display_data"
    }
   ],
   "source": [
    "#creating a correlation matrix/heatmap to look at the correlation of all variables/features within the dataset\n",
    "\n",
    "corr_mat = sakura_bloom_df.corr()\n",
    "f, ax = plt.subplots(figsize=(12,9))\n",
    "hm = sns.heatmap(round(corr_mat,2), annot=True, ax=ax, cmap='coolwarm')\n",
    "f.suptitle('Sakura Bloom Feature Correlation for Blooming Months')\n",
    "\n"
   ]
  },
  {
   "cell_type": "markdown",
   "id": "dc463e71",
   "metadata": {},
   "source": [
    "There are only two features being analyzed here, but it is interesting (and maybe a little disheartening) to note that temperature and flower status are not very well correlated in the dataset."
   ]
  },
  {
   "cell_type": "code",
   "execution_count": 11,
   "id": "2d24898d",
   "metadata": {},
   "outputs": [
    {
     "data": {
      "text/plain": [
       "<seaborn.axisgrid.PairGrid at 0x7fc7c98ab850>"
      ]
     },
     "execution_count": 11,
     "metadata": {},
     "output_type": "execute_result"
    },
    {
     "data": {
      "image/png": "[encoded data removed]",
      "text/plain": [
       "<Figure size 360x360 with 6 Axes>"
      ]
     },
     "metadata": {
      "needs_background": "light"
     },
     "output_type": "display_data"
    }
   ],
   "source": [
    "#another visualization of what we've seen above\n",
    "sns.pairplot(sakura_bloom_df)"
   ]
  },
  {
   "cell_type": "code",
   "execution_count": 12,
   "id": "8c85391e",
   "metadata": {},
   "outputs": [],
   "source": [
    "#checking out each bloom month individually to see the bloom timeline - split into 2 dataframes\n",
    "\n",
    "april_df = sakura_bloom_df[sakura_bloom_df['month'] == '4']\n",
    "may_df = sakura_bloom_df[sakura_bloom_df['month'] == '5']"
   ]
  },
  {
   "cell_type": "code",
   "execution_count": 13,
   "id": "c192576d",
   "metadata": {},
   "outputs": [
    {
     "data": {
      "image/png": "[encoded data removed]",
      "text/plain": [
       "<Figure size 432x288 with 1 Axes>"
      ]
     },
     "metadata": {
      "needs_background": "light"
     },
     "output_type": "display_data"
    }
   ],
   "source": [
    "scatter_apr = sns.scatterplot(data=april_df, x='flower_status', y='day')\n",
    "\n",
    "plt.xticks([0,1,2,3], ['bloom', 'full bloom', 'scatter', 'no bloom'])\n",
    "plt.xlabel('Flower status')\n",
    "plt.ylabel('Day of the month')\n",
    "plt.title('Blooming Status by Date - April')\n",
    "plt.show()"
   ]
  },
  {
   "cell_type": "code",
   "execution_count": 14,
   "id": "28f67c4d",
   "metadata": {},
   "outputs": [
    {
     "data": {
      "image/png": "[encoded data removed]",
      "text/plain": [
       "<Figure size 432x288 with 1 Axes>"
      ]
     },
     "metadata": {
      "needs_background": "light"
     },
     "output_type": "display_data"
    }
   ],
   "source": [
    "scatter_may = sns.scatterplot(data=may_df, x='flower_status', y='day')\n",
    "\n",
    "plt.xticks([0,1,2,3], ['bloom', 'full bloom', 'scatter', 'no bloom'])\n",
    "plt.xlabel('Flower status')\n",
    "plt.ylabel('Day of the month')\n",
    "plt.title('Blooming Status by Date - May')\n",
    "plt.show()"
   ]
  },
  {
   "cell_type": "markdown",
   "id": "5e461294",
   "metadata": {},
   "source": [
    "These two plots indicate that we can expect the bloom to start at the earliest in mid-April, and end at the latest in early/mid-May. This will be useful information when modeling our predictions for future years."
   ]
  },
  {
   "cell_type": "markdown",
   "id": "a566303a",
   "metadata": {},
   "source": [
    "# Pre-Processing and Training Data"
   ]
  },
  {
   "cell_type": "code",
   "execution_count": 15,
   "id": "215ab9dc",
   "metadata": {},
   "outputs": [
    {
     "data": {
      "text/html": [
       "<div>\n",
       "<style scoped>\n",
       "    .dataframe tbody tr th:only-of-type {\n",
       "        vertical-align: middle;\n",
       "    }\n",
       "\n",
       "    .dataframe tbody tr th {\n",
       "        vertical-align: top;\n",
       "    }\n",
       "\n",
       "    .dataframe thead th {\n",
       "        text-align: right;\n",
       "    }\n",
       "</style>\n",
       "<table border=\"1\" class=\"dataframe\">\n",
       "  <thead>\n",
       "    <tr style=\"text-align: right;\">\n",
       "      <th></th>\n",
       "      <th>month</th>\n",
       "      <th>day</th>\n",
       "      <th>temperature</th>\n",
       "      <th>flower_status</th>\n",
       "    </tr>\n",
       "  </thead>\n",
       "  <tbody>\n",
       "    <tr>\n",
       "      <th>0</th>\n",
       "      <td>4</td>\n",
       "      <td>1</td>\n",
       "      <td>6.1</td>\n",
       "      <td>3</td>\n",
       "    </tr>\n",
       "    <tr>\n",
       "      <th>1</th>\n",
       "      <td>4</td>\n",
       "      <td>2</td>\n",
       "      <td>5.7</td>\n",
       "      <td>3</td>\n",
       "    </tr>\n",
       "    <tr>\n",
       "      <th>2</th>\n",
       "      <td>4</td>\n",
       "      <td>3</td>\n",
       "      <td>7.5</td>\n",
       "      <td>3</td>\n",
       "    </tr>\n",
       "    <tr>\n",
       "      <th>3</th>\n",
       "      <td>4</td>\n",
       "      <td>4</td>\n",
       "      <td>7.4</td>\n",
       "      <td>3</td>\n",
       "    </tr>\n",
       "    <tr>\n",
       "      <th>4</th>\n",
       "      <td>4</td>\n",
       "      <td>5</td>\n",
       "      <td>6.6</td>\n",
       "      <td>3</td>\n",
       "    </tr>\n",
       "  </tbody>\n",
       "</table>\n",
       "</div>"
      ],
      "text/plain": [
       "  month day  temperature  flower_status\n",
       "0     4   1          6.1              3\n",
       "1     4   2          5.7              3\n",
       "2     4   3          7.5              3\n",
       "3     4   4          7.4              3\n",
       "4     4   5          6.6              3"
      ]
     },
     "execution_count": 15,
     "metadata": {},
     "output_type": "execute_result"
    }
   ],
   "source": [
    "#pre-processing data to prepare for model\n",
    "\n",
    "#check out dataframe of all year's data\n",
    "sakura_bloom_df.head()"
   ]
  },
  {
   "cell_type": "code",
   "execution_count": 16,
   "id": "f7c6e811",
   "metadata": {},
   "outputs": [
    {
     "data": {
      "text/html": [
       "<div>\n",
       "<style scoped>\n",
       "    .dataframe tbody tr th:only-of-type {\n",
       "        vertical-align: middle;\n",
       "    }\n",
       "\n",
       "    .dataframe tbody tr th {\n",
       "        vertical-align: top;\n",
       "    }\n",
       "\n",
       "    .dataframe thead th {\n",
       "        text-align: right;\n",
       "    }\n",
       "</style>\n",
       "<table border=\"1\" class=\"dataframe\">\n",
       "  <thead>\n",
       "    <tr style=\"text-align: right;\">\n",
       "      <th></th>\n",
       "      <th>month</th>\n",
       "      <th>day</th>\n",
       "      <th>temperature</th>\n",
       "      <th>cumulative_temp</th>\n",
       "      <th>flower_status</th>\n",
       "    </tr>\n",
       "  </thead>\n",
       "  <tbody>\n",
       "    <tr>\n",
       "      <th>0</th>\n",
       "      <td>4</td>\n",
       "      <td>1</td>\n",
       "      <td>6.1</td>\n",
       "      <td>6.1</td>\n",
       "      <td>3</td>\n",
       "    </tr>\n",
       "    <tr>\n",
       "      <th>1</th>\n",
       "      <td>4</td>\n",
       "      <td>2</td>\n",
       "      <td>5.7</td>\n",
       "      <td>11.8</td>\n",
       "      <td>3</td>\n",
       "    </tr>\n",
       "    <tr>\n",
       "      <th>2</th>\n",
       "      <td>4</td>\n",
       "      <td>3</td>\n",
       "      <td>7.5</td>\n",
       "      <td>19.3</td>\n",
       "      <td>3</td>\n",
       "    </tr>\n",
       "    <tr>\n",
       "      <th>3</th>\n",
       "      <td>4</td>\n",
       "      <td>4</td>\n",
       "      <td>7.4</td>\n",
       "      <td>26.7</td>\n",
       "      <td>3</td>\n",
       "    </tr>\n",
       "    <tr>\n",
       "      <th>4</th>\n",
       "      <td>4</td>\n",
       "      <td>5</td>\n",
       "      <td>6.6</td>\n",
       "      <td>33.3</td>\n",
       "      <td>3</td>\n",
       "    </tr>\n",
       "    <tr>\n",
       "      <th>...</th>\n",
       "      <td>...</td>\n",
       "      <td>...</td>\n",
       "      <td>...</td>\n",
       "      <td>...</td>\n",
       "      <td>...</td>\n",
       "    </tr>\n",
       "    <tr>\n",
       "      <th>1520</th>\n",
       "      <td>5</td>\n",
       "      <td>27</td>\n",
       "      <td>14.6</td>\n",
       "      <td>671.8</td>\n",
       "      <td>3</td>\n",
       "    </tr>\n",
       "    <tr>\n",
       "      <th>1521</th>\n",
       "      <td>5</td>\n",
       "      <td>28</td>\n",
       "      <td>16.0</td>\n",
       "      <td>687.8</td>\n",
       "      <td>3</td>\n",
       "    </tr>\n",
       "    <tr>\n",
       "      <th>1522</th>\n",
       "      <td>5</td>\n",
       "      <td>29</td>\n",
       "      <td>16.6</td>\n",
       "      <td>704.4</td>\n",
       "      <td>3</td>\n",
       "    </tr>\n",
       "    <tr>\n",
       "      <th>1523</th>\n",
       "      <td>5</td>\n",
       "      <td>30</td>\n",
       "      <td>14.9</td>\n",
       "      <td>719.3</td>\n",
       "      <td>3</td>\n",
       "    </tr>\n",
       "    <tr>\n",
       "      <th>1524</th>\n",
       "      <td>5</td>\n",
       "      <td>31</td>\n",
       "      <td>13.4</td>\n",
       "      <td>732.7</td>\n",
       "      <td>3</td>\n",
       "    </tr>\n",
       "  </tbody>\n",
       "</table>\n",
       "<p>1525 rows × 5 columns</p>\n",
       "</div>"
      ],
      "text/plain": [
       "     month day  temperature  cumulative_temp  flower_status\n",
       "0        4   1          6.1              6.1              3\n",
       "1        4   2          5.7             11.8              3\n",
       "2        4   3          7.5             19.3              3\n",
       "3        4   4          7.4             26.7              3\n",
       "4        4   5          6.6             33.3              3\n",
       "...    ...  ..          ...              ...            ...\n",
       "1520     5  27         14.6            671.8              3\n",
       "1521     5  28         16.0            687.8              3\n",
       "1522     5  29         16.6            704.4              3\n",
       "1523     5  30         14.9            719.3              3\n",
       "1524     5  31         13.4            732.7              3\n",
       "\n",
       "[1525 rows x 5 columns]"
      ]
     },
     "execution_count": 16,
     "metadata": {},
     "output_type": "execute_result"
    }
   ],
   "source": [
    "modellist = []\n",
    "\n",
    "for i in range(len(sakura_bloom_df)):\n",
    "    month, day = sakura_bloom_df['month'][i], sakura_bloom_df['day'][i]\n",
    "    if month == '4' and day == '1':\n",
    "        cum_temp = 0\n",
    "    temp = sakura_bloom_df['temperature'][i]\n",
    "    cum_temp += temp\n",
    "    status = sakura_bloom_df['flower_status'][i]\n",
    "    sakura_dict = {'month':month, 'day':day, 'temperature':temp, 'cumulative_temp':cum_temp, 'flower_status':status}\n",
    "    modellist.append(sakura_dict)\n",
    "\n",
    "model_df = pd.DataFrame(modellist)\n",
    "\n",
    "model_df"
   ]
  },
  {
   "cell_type": "code",
   "execution_count": 17,
   "id": "12d7e557",
   "metadata": {},
   "outputs": [
    {
     "data": {
      "text/html": [
       "<div>\n",
       "<style scoped>\n",
       "    .dataframe tbody tr th:only-of-type {\n",
       "        vertical-align: middle;\n",
       "    }\n",
       "\n",
       "    .dataframe tbody tr th {\n",
       "        vertical-align: top;\n",
       "    }\n",
       "\n",
       "    .dataframe thead th {\n",
       "        text-align: right;\n",
       "    }\n",
       "</style>\n",
       "<table border=\"1\" class=\"dataframe\">\n",
       "  <thead>\n",
       "    <tr style=\"text-align: right;\">\n",
       "      <th></th>\n",
       "      <th>month</th>\n",
       "      <th>day</th>\n",
       "      <th>temperature</th>\n",
       "      <th>cumulative_temp</th>\n",
       "      <th>flower_status</th>\n",
       "    </tr>\n",
       "  </thead>\n",
       "  <tbody>\n",
       "    <tr>\n",
       "      <th>0</th>\n",
       "      <td>4</td>\n",
       "      <td>1</td>\n",
       "      <td>6.1</td>\n",
       "      <td>6.1</td>\n",
       "      <td>0</td>\n",
       "    </tr>\n",
       "    <tr>\n",
       "      <th>1</th>\n",
       "      <td>4</td>\n",
       "      <td>2</td>\n",
       "      <td>5.7</td>\n",
       "      <td>11.8</td>\n",
       "      <td>0</td>\n",
       "    </tr>\n",
       "    <tr>\n",
       "      <th>2</th>\n",
       "      <td>4</td>\n",
       "      <td>3</td>\n",
       "      <td>7.5</td>\n",
       "      <td>19.3</td>\n",
       "      <td>0</td>\n",
       "    </tr>\n",
       "    <tr>\n",
       "      <th>3</th>\n",
       "      <td>4</td>\n",
       "      <td>4</td>\n",
       "      <td>7.4</td>\n",
       "      <td>26.7</td>\n",
       "      <td>0</td>\n",
       "    </tr>\n",
       "    <tr>\n",
       "      <th>4</th>\n",
       "      <td>4</td>\n",
       "      <td>5</td>\n",
       "      <td>6.6</td>\n",
       "      <td>33.3</td>\n",
       "      <td>0</td>\n",
       "    </tr>\n",
       "    <tr>\n",
       "      <th>...</th>\n",
       "      <td>...</td>\n",
       "      <td>...</td>\n",
       "      <td>...</td>\n",
       "      <td>...</td>\n",
       "      <td>...</td>\n",
       "    </tr>\n",
       "    <tr>\n",
       "      <th>1520</th>\n",
       "      <td>5</td>\n",
       "      <td>27</td>\n",
       "      <td>14.6</td>\n",
       "      <td>671.8</td>\n",
       "      <td>0</td>\n",
       "    </tr>\n",
       "    <tr>\n",
       "      <th>1521</th>\n",
       "      <td>5</td>\n",
       "      <td>28</td>\n",
       "      <td>16.0</td>\n",
       "      <td>687.8</td>\n",
       "      <td>0</td>\n",
       "    </tr>\n",
       "    <tr>\n",
       "      <th>1522</th>\n",
       "      <td>5</td>\n",
       "      <td>29</td>\n",
       "      <td>16.6</td>\n",
       "      <td>704.4</td>\n",
       "      <td>0</td>\n",
       "    </tr>\n",
       "    <tr>\n",
       "      <th>1523</th>\n",
       "      <td>5</td>\n",
       "      <td>30</td>\n",
       "      <td>14.9</td>\n",
       "      <td>719.3</td>\n",
       "      <td>0</td>\n",
       "    </tr>\n",
       "    <tr>\n",
       "      <th>1524</th>\n",
       "      <td>5</td>\n",
       "      <td>31</td>\n",
       "      <td>13.4</td>\n",
       "      <td>732.7</td>\n",
       "      <td>0</td>\n",
       "    </tr>\n",
       "  </tbody>\n",
       "</table>\n",
       "<p>1525 rows × 5 columns</p>\n",
       "</div>"
      ],
      "text/plain": [
       "     month day  temperature  cumulative_temp  flower_status\n",
       "0        4   1          6.1              6.1              0\n",
       "1        4   2          5.7             11.8              0\n",
       "2        4   3          7.5             19.3              0\n",
       "3        4   4          7.4             26.7              0\n",
       "4        4   5          6.6             33.3              0\n",
       "...    ...  ..          ...              ...            ...\n",
       "1520     5  27         14.6            671.8              0\n",
       "1521     5  28         16.0            687.8              0\n",
       "1522     5  29         16.6            704.4              0\n",
       "1523     5  30         14.9            719.3              0\n",
       "1524     5  31         13.4            732.7              0\n",
       "\n",
       "[1525 rows x 5 columns]"
      ]
     },
     "execution_count": 17,
     "metadata": {},
     "output_type": "execute_result"
    }
   ],
   "source": [
    "# creating binary categories of flower status for modeling.\n",
    "# all blooming statuses (0-2) will be considered a bloom and encoded with a \"1\" status, \n",
    "# while non-bloom (3) will be the other category in the binary, with \"0\" status\n",
    "\n",
    "model_df.loc[model_df['flower_status'] == 0, 'flower_status'] = 1\n",
    "model_df.loc[model_df['flower_status'] == 2, 'flower_status'] = 1\n",
    "\n",
    "model_df.loc[model_df['flower_status'] == 3, 'flower_status'] = 0\n",
    "\n",
    "\n",
    "model_df"
   ]
  },
  {
   "cell_type": "code",
   "execution_count": 18,
   "id": "b03fc209",
   "metadata": {},
   "outputs": [],
   "source": [
    "#training and testing data \n",
    "X = model_df.drop('flower_status', axis=1)\n",
    "y = model_df['flower_status']"
   ]
  },
  {
   "cell_type": "code",
   "execution_count": 19,
   "id": "9fc4358b",
   "metadata": {},
   "outputs": [],
   "source": [
    "#import necessary preprocessing tools from scikitlearn\n",
    "from sklearn.preprocessing import MinMaxScaler\n",
    "from sklearn.model_selection import train_test_split\n",
    "\n",
    "#use scaler to standardize magnitude of numeric features\n",
    "scaled_features = MinMaxScaler().fit_transform(X)\n",
    "\n",
    "#split data into training and testing sets\n",
    "X_train, X_test, y_train, y_test = train_test_split(scaled_features, y, test_size=0.25, random_state = 0, stratify=y)"
   ]
  },
  {
   "cell_type": "code",
   "execution_count": 20,
   "id": "50e413ee",
   "metadata": {},
   "outputs": [
    {
     "data": {
      "text/plain": [
       "(1143,)"
      ]
     },
     "execution_count": 20,
     "metadata": {},
     "output_type": "execute_result"
    }
   ],
   "source": [
    "X_train\n",
    "y_train.shape"
   ]
  },
  {
   "cell_type": "markdown",
   "id": "a9cf6061",
   "metadata": {},
   "source": [
    "# Modeling"
   ]
  },
  {
   "cell_type": "code",
   "execution_count": 21,
   "id": "843f4045",
   "metadata": {},
   "outputs": [],
   "source": [
    "#import packages for model construction/analysis\n",
    "from sklearn.tree import DecisionTreeClassifier\n",
    "from sklearn.metrics import precision_score\n",
    "from sklearn.metrics import recall_score\n",
    "from sklearn.metrics import f1_score\n",
    "from sklearn.metrics import accuracy_score\n",
    "from sklearn.metrics import roc_curve, auc, roc_auc_score\n",
    "import matplotlib.pyplot as plt\n",
    "from sklearn.decomposition import PCA\n",
    "from sklearn.metrics import classification_report\n",
    "from sklearn.metrics import plot_roc_curve\n",
    "from sklearn.metrics import plot_precision_recall_curve\n",
    "from numpy import argmax\n",
    "import numpy as np\n",
    "\n",
    "def model_and_test(X_train, X_test, y_train, y_test, class_weight=None, threshold=False):\n",
    "    \n",
    "    # build and plot PCA\n",
    "    pca = PCA(n_components=2) #4 different possible bloom statuses, heavily unbalanced towards category 3. Considering statuses 0-2 as a category and 3 as a category\n",
    "    pca.fit(X_train)\n",
    "    X_pca = pca.transform(X_train)\n",
    "    plt.scatter(X_pca[:, 0], X_pca[:, 1], c=y_train, cmap=plt.cm.prism, edgecolor='k', alpha=0.7)\n",
    "    plt.show()\n",
    "    \n",
    "    # Build and fit the model\n",
    "    if class_weight:\n",
    "        model = DecisionTreeClassifier(class_weight=class_weight)\n",
    "    else:\n",
    "        model = DecisionTreeClassifier()\n",
    "    model.fit(X_train, y_train)\n",
    "    \n",
    "    # Test the model\n",
    "    y_pred = model.predict(X_test)\n",
    "    print('Precision score %s' % precision_score(y_test, y_pred, average='binary'))\n",
    "    print('Recall score %s' % recall_score(y_test, y_pred, average='binary'))\n",
    "    print('F1-score score %s' % f1_score(y_test, y_pred, average='binary'))\n",
    "    print('Accuracy score %s' % accuracy_score(y_test, y_pred))\n",
    "    \n",
    "    y_score = model.predict_proba(X_test)\n",
    "    fpr0, tpr0, thresholds = roc_curve(y_test, y_score[:, 1])\n",
    "    roc_auc0 = auc(fpr0, tpr0)\n",
    "    \n",
    "    # Calculate the best threshold\n",
    "    best_threshold = None\n",
    "    if threshold:\n",
    "        J = tpr0 - fpr0\n",
    "        ix = argmax(J) # take the value which maximizes the J variable\n",
    "        best_threshold = thresholds[ix]\n",
    "        # adjust score according to threshold\n",
    "        y_score = np.array([[1, y[1]] if y[0] >= best_threshold else [0, y[1]] for y in y_score])\n",
    "        \n",
    "    \n",
    "    # Plot metrics \n",
    "    #plot_roc_curve(y_test, y_score)\n",
    "    #plt.show()\n",
    "    \n",
    "    #plot_precision_recall_curve(y_test, y_score)\n",
    "    #plt.show()\n",
    "\n",
    "    \n",
    "    # Print a classification report\n",
    "    print(classification_report(y_test, y_pred))\n",
    "    return roc_auc0, fpr0, tpr0, best_threshold"
   ]
  },
  {
   "cell_type": "code",
   "execution_count": 22,
   "id": "d0637552",
   "metadata": {},
   "outputs": [
    {
     "data": {
      "image/png": "[encoded data removed]",
      "text/plain": [
       "<Figure size 432x288 with 1 Axes>"
      ]
     },
     "metadata": {
      "needs_background": "light"
     },
     "output_type": "display_data"
    },
    {
     "name": "stdout",
     "output_type": "stream",
     "text": [
      "Precision score 0.2916666666666667\n",
      "Recall score 0.3684210526315789\n",
      "F1-score score 0.32558139534883723\n",
      "Accuracy score 0.9240837696335078\n",
      "              precision    recall  f1-score   support\n",
      "\n",
      "           0       0.97      0.95      0.96       363\n",
      "           1       0.29      0.37      0.33        19\n",
      "\n",
      "    accuracy                           0.92       382\n",
      "   macro avg       0.63      0.66      0.64       382\n",
      "weighted avg       0.93      0.92      0.93       382\n",
      "\n"
     ]
    }
   ],
   "source": [
    "#check function with the existing imbalanced dataset\n",
    "roc_imbal, fpr_imbal, tpr_imbal, thresh_imbal = model_and_test(X_train, X_test, y_train, y_test)"
   ]
  },
  {
   "cell_type": "markdown",
   "id": "bd13e6eb",
   "metadata": {},
   "source": [
    "Above is the result of using the model/test on the unbalanced dataset (with binary categories of bloom and no bloom) without correcting the imbalance in any way. The PCA graph clearly indicates that the red (no bloom) heavily dominates, and this is supported by the classification report with much stronger modeling metrics for the more present non-bloom data."
   ]
  },
  {
   "cell_type": "code",
   "execution_count": 23,
   "id": "dec19ab5",
   "metadata": {},
   "outputs": [
    {
     "name": "stdout",
     "output_type": "stream",
     "text": [
      "Training target statistics: Counter({0: 1087, 1: 1087})\n",
      "Testing target statistics: Counter({0: 363, 1: 19})\n"
     ]
    }
   ],
   "source": [
    "# trying balancing the dataset by oversampling the bloom 1s to match the non-bloom 0s in the training data\n",
    "\n",
    "from imblearn.over_sampling import RandomOverSampler\n",
    "from collections import Counter\n",
    "\n",
    "over_sampler = RandomOverSampler(random_state=0)\n",
    "X_over, y_over = over_sampler.fit_resample(X_train, y_train)\n",
    "print(f\"Training target statistics: {Counter(y_over)}\")\n",
    "print(f\"Testing target statistics: {Counter(y_test)}\")"
   ]
  },
  {
   "cell_type": "code",
   "execution_count": 24,
   "id": "f76dabab",
   "metadata": {},
   "outputs": [
    {
     "data": {
      "image/png": "[encoded data removed]",
      "text/plain": [
       "<Figure size 432x288 with 1 Axes>"
      ]
     },
     "metadata": {
      "needs_background": "light"
     },
     "output_type": "display_data"
    },
    {
     "name": "stdout",
     "output_type": "stream",
     "text": [
      "Precision score 0.2777777777777778\n",
      "Recall score 0.2631578947368421\n",
      "F1-score score 0.27027027027027023\n",
      "Accuracy score 0.9293193717277487\n",
      "              precision    recall  f1-score   support\n",
      "\n",
      "           0       0.96      0.96      0.96       363\n",
      "           1       0.28      0.26      0.27        19\n",
      "\n",
      "    accuracy                           0.93       382\n",
      "   macro avg       0.62      0.61      0.62       382\n",
      "weighted avg       0.93      0.93      0.93       382\n",
      "\n"
     ]
    }
   ],
   "source": [
    "roc_over, fpr_over, tpr_over, thresh_over = model_and_test(X_over, X_test, y_over, y_test)"
   ]
  },
  {
   "cell_type": "markdown",
   "id": "35d07e1c",
   "metadata": {},
   "source": [
    "The result of using the modeling function on the dataset with oversampled bloom values is better, with slight improvements to all the metrics. Next we will try another method, undersampling the non-bloom values, and see if it improves on this model."
   ]
  },
  {
   "cell_type": "code",
   "execution_count": 25,
   "id": "37d05c6b",
   "metadata": {},
   "outputs": [
    {
     "name": "stdout",
     "output_type": "stream",
     "text": [
      "Training target statistics: Counter({0: 56, 1: 56})\n",
      "Testing target statistics: Counter({0: 363, 1: 19})\n"
     ]
    }
   ],
   "source": [
    "from imblearn.under_sampling import RandomUnderSampler\n",
    "under_sampler = RandomUnderSampler(random_state=0)\n",
    "X_under, y_under = under_sampler.fit_resample(X_train, y_train)\n",
    "print(f\"Training target statistics: {Counter(y_under)}\")\n",
    "print(f\"Testing target statistics: {Counter(y_test)}\")"
   ]
  },
  {
   "cell_type": "code",
   "execution_count": 26,
   "id": "d9952c42",
   "metadata": {},
   "outputs": [
    {
     "data": {
      "image/png": "[encoded data removed]",
      "text/plain": [
       "<Figure size 432x288 with 1 Axes>"
      ]
     },
     "metadata": {
      "needs_background": "light"
     },
     "output_type": "display_data"
    },
    {
     "name": "stdout",
     "output_type": "stream",
     "text": [
      "Precision score 0.17073170731707318\n",
      "Recall score 0.7368421052631579\n",
      "F1-score score 0.27722772277227725\n",
      "Accuracy score 0.8089005235602095\n",
      "              precision    recall  f1-score   support\n",
      "\n",
      "           0       0.98      0.81      0.89       363\n",
      "           1       0.17      0.74      0.28        19\n",
      "\n",
      "    accuracy                           0.81       382\n",
      "   macro avg       0.58      0.77      0.58       382\n",
      "weighted avg       0.94      0.81      0.86       382\n",
      "\n"
     ]
    }
   ],
   "source": [
    "roc_under, fpr_under, tpr_under, thresh_under = model_and_test(X_under, X_test, y_under, y_test)"
   ]
  },
  {
   "cell_type": "markdown",
   "id": "a84cbf83",
   "metadata": {},
   "source": [
    "This model seems to be less effective than the oversampling model, as the accuracy, precision, and F1 scores are all decreased. The only area in which the model seems to have improved is the recall metric.\n",
    "\n",
    "Because the oversampled model is the superior model, I will expand on it by applying the SMOTE method and checking the results."
   ]
  },
  {
   "cell_type": "code",
   "execution_count": 27,
   "id": "d2eee1b5",
   "metadata": {},
   "outputs": [
    {
     "name": "stdout",
     "output_type": "stream",
     "text": [
      "Training target statistics: Counter({0: 1087, 1: 1087})\n",
      "Testing target statistics: Counter({0: 363, 1: 19})\n"
     ]
    }
   ],
   "source": [
    "from imblearn.over_sampling import SMOTE\n",
    "over_sampler_smote = SMOTE(k_neighbors=2)\n",
    "X_ovsm, y_ovsm = over_sampler_smote.fit_resample(X_train, y_train)\n",
    "print(f\"Training target statistics: {Counter(y_ovsm)}\")\n",
    "print(f\"Testing target statistics: {Counter(y_test)}\")"
   ]
  },
  {
   "cell_type": "code",
   "execution_count": 28,
   "id": "1bfa8b4c",
   "metadata": {},
   "outputs": [
    {
     "data": {
      "image/png": "[encoded data removed]",
      "text/plain": [
       "<Figure size 432x288 with 1 Axes>"
      ]
     },
     "metadata": {
      "needs_background": "light"
     },
     "output_type": "display_data"
    },
    {
     "name": "stdout",
     "output_type": "stream",
     "text": [
      "Precision score 0.1388888888888889\n",
      "Recall score 0.2631578947368421\n",
      "F1-score score 0.18181818181818182\n",
      "Accuracy score 0.8821989528795812\n",
      "              precision    recall  f1-score   support\n",
      "\n",
      "           0       0.96      0.91      0.94       363\n",
      "           1       0.14      0.26      0.18        19\n",
      "\n",
      "    accuracy                           0.88       382\n",
      "   macro avg       0.55      0.59      0.56       382\n",
      "weighted avg       0.92      0.88      0.90       382\n",
      "\n"
     ]
    }
   ],
   "source": [
    "roc_ovsm, fpr_ovsm, tpr_ovsm, thresh_ovsm = model_and_test(X_ovsm, X_test, y_ovsm, y_test)"
   ]
  },
  {
   "cell_type": "markdown",
   "id": "84458e3d",
   "metadata": {},
   "source": [
    "This does not make improvements to the oversampled model."
   ]
  },
  {
   "cell_type": "code",
   "execution_count": null,
   "id": "e7a33dae",
   "metadata": {},
   "outputs": [],
   "source": []
  }
 ],
 "metadata": {
  "kernelspec": {
   "display_name": "Python 3 (ipykernel)",
   "language": "python",
   "name": "python3"
  },
  "language_info": {
   "codemirror_mode": {
    "name": "ipython",
    "version": 3
   },
   "file_extension": ".py",
   "mimetype": "text/x-python",
   "name": "python",
   "nbconvert_exporter": "python",
   "pygments_lexer": "ipython3",
   "version": "3.9.12"
  }
 },
 "nbformat": 4,
 "nbformat_minor": 5
}
